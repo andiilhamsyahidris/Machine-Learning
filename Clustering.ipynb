{
  "nbformat": 4,
  "nbformat_minor": 0,
  "metadata": {
    "colab": {
      "name": "Clustering.ipynb",
      "provenance": []
    },
    "kernelspec": {
      "name": "python3",
      "display_name": "Python 3"
    },
    "language_info": {
      "name": "python"
    }
  },
  "cells": [
    {
      "cell_type": "code",
      "metadata": {
        "id": "c5M13_VX8GSH"
      },
      "source": [
        "import pandas as pd\n",
        "import matplotlib.pyplot as plt\n",
        "import seaborn as sns\n",
        "import numpy as np\n",
        "from sklearn.preprocessing import StandardScaler"
      ],
      "execution_count": 12,
      "outputs": []
    },
    {
      "cell_type": "code",
      "metadata": {
        "colab": {
          "base_uri": "https://localhost:8080/",
          "height": 226
        },
        "id": "4zTvpZSV8vLu",
        "outputId": "ff89ccfd-8fab-4cdc-911b-1817154125e2"
      },
      "source": [
        "df = pd.read_csv('data.csv')\n",
        "df.head()"
      ],
      "execution_count": 13,
      "outputs": [
        {
          "output_type": "execute_result",
          "data": {
            "text/html": [
              "<div>\n",
              "<style scoped>\n",
              "    .dataframe tbody tr th:only-of-type {\n",
              "        vertical-align: middle;\n",
              "    }\n",
              "\n",
              "    .dataframe tbody tr th {\n",
              "        vertical-align: top;\n",
              "    }\n",
              "\n",
              "    .dataframe thead th {\n",
              "        text-align: right;\n",
              "    }\n",
              "</style>\n",
              "<table border=\"1\" class=\"dataframe\">\n",
              "  <thead>\n",
              "    <tr style=\"text-align: right;\">\n",
              "      <th></th>\n",
              "      <th>danceability</th>\n",
              "      <th>energy</th>\n",
              "      <th>key</th>\n",
              "      <th>loudness</th>\n",
              "      <th>mode</th>\n",
              "      <th>speechiness</th>\n",
              "      <th>acousticness</th>\n",
              "      <th>instrumentalness</th>\n",
              "      <th>liveness</th>\n",
              "      <th>valence</th>\n",
              "      <th>tempo</th>\n",
              "      <th>duration_ms</th>\n",
              "      <th>time_signature</th>\n",
              "      <th>liked</th>\n",
              "    </tr>\n",
              "  </thead>\n",
              "  <tbody>\n",
              "    <tr>\n",
              "      <th>0</th>\n",
              "      <td>0.803</td>\n",
              "      <td>0.6240</td>\n",
              "      <td>7</td>\n",
              "      <td>-6.764</td>\n",
              "      <td>0</td>\n",
              "      <td>0.0477</td>\n",
              "      <td>0.451</td>\n",
              "      <td>0.000734</td>\n",
              "      <td>0.1000</td>\n",
              "      <td>0.6280</td>\n",
              "      <td>95.968</td>\n",
              "      <td>304524</td>\n",
              "      <td>4</td>\n",
              "      <td>0</td>\n",
              "    </tr>\n",
              "    <tr>\n",
              "      <th>1</th>\n",
              "      <td>0.762</td>\n",
              "      <td>0.7030</td>\n",
              "      <td>10</td>\n",
              "      <td>-7.951</td>\n",
              "      <td>0</td>\n",
              "      <td>0.3060</td>\n",
              "      <td>0.206</td>\n",
              "      <td>0.000000</td>\n",
              "      <td>0.0912</td>\n",
              "      <td>0.5190</td>\n",
              "      <td>151.329</td>\n",
              "      <td>247178</td>\n",
              "      <td>4</td>\n",
              "      <td>1</td>\n",
              "    </tr>\n",
              "    <tr>\n",
              "      <th>2</th>\n",
              "      <td>0.261</td>\n",
              "      <td>0.0149</td>\n",
              "      <td>1</td>\n",
              "      <td>-27.528</td>\n",
              "      <td>1</td>\n",
              "      <td>0.0419</td>\n",
              "      <td>0.992</td>\n",
              "      <td>0.897000</td>\n",
              "      <td>0.1020</td>\n",
              "      <td>0.0382</td>\n",
              "      <td>75.296</td>\n",
              "      <td>286987</td>\n",
              "      <td>4</td>\n",
              "      <td>0</td>\n",
              "    </tr>\n",
              "    <tr>\n",
              "      <th>3</th>\n",
              "      <td>0.722</td>\n",
              "      <td>0.7360</td>\n",
              "      <td>3</td>\n",
              "      <td>-6.994</td>\n",
              "      <td>0</td>\n",
              "      <td>0.0585</td>\n",
              "      <td>0.431</td>\n",
              "      <td>0.000001</td>\n",
              "      <td>0.1230</td>\n",
              "      <td>0.5820</td>\n",
              "      <td>89.860</td>\n",
              "      <td>208920</td>\n",
              "      <td>4</td>\n",
              "      <td>1</td>\n",
              "    </tr>\n",
              "    <tr>\n",
              "      <th>4</th>\n",
              "      <td>0.787</td>\n",
              "      <td>0.5720</td>\n",
              "      <td>1</td>\n",
              "      <td>-7.516</td>\n",
              "      <td>1</td>\n",
              "      <td>0.2220</td>\n",
              "      <td>0.145</td>\n",
              "      <td>0.000000</td>\n",
              "      <td>0.0753</td>\n",
              "      <td>0.6470</td>\n",
              "      <td>155.117</td>\n",
              "      <td>179413</td>\n",
              "      <td>4</td>\n",
              "      <td>1</td>\n",
              "    </tr>\n",
              "  </tbody>\n",
              "</table>\n",
              "</div>"
            ],
            "text/plain": [
              "   danceability  energy  key  ...  duration_ms  time_signature  liked\n",
              "0         0.803  0.6240    7  ...       304524               4      0\n",
              "1         0.762  0.7030   10  ...       247178               4      1\n",
              "2         0.261  0.0149    1  ...       286987               4      0\n",
              "3         0.722  0.7360    3  ...       208920               4      1\n",
              "4         0.787  0.5720    1  ...       179413               4      1\n",
              "\n",
              "[5 rows x 14 columns]"
            ]
          },
          "metadata": {},
          "execution_count": 13
        }
      ]
    },
    {
      "cell_type": "code",
      "metadata": {
        "colab": {
          "base_uri": "https://localhost:8080/",
          "height": 443
        },
        "id": "H02Pos7F819-",
        "outputId": "bb913fd7-e00b-419f-b49c-7589a1f5fb0f"
      },
      "source": [
        "df.dropna(inplace=True)\n",
        "data = df.reset_index(drop=True)\n",
        "data"
      ],
      "execution_count": 14,
      "outputs": [
        {
          "output_type": "execute_result",
          "data": {
            "text/html": [
              "<div>\n",
              "<style scoped>\n",
              "    .dataframe tbody tr th:only-of-type {\n",
              "        vertical-align: middle;\n",
              "    }\n",
              "\n",
              "    .dataframe tbody tr th {\n",
              "        vertical-align: top;\n",
              "    }\n",
              "\n",
              "    .dataframe thead th {\n",
              "        text-align: right;\n",
              "    }\n",
              "</style>\n",
              "<table border=\"1\" class=\"dataframe\">\n",
              "  <thead>\n",
              "    <tr style=\"text-align: right;\">\n",
              "      <th></th>\n",
              "      <th>danceability</th>\n",
              "      <th>energy</th>\n",
              "      <th>key</th>\n",
              "      <th>loudness</th>\n",
              "      <th>mode</th>\n",
              "      <th>speechiness</th>\n",
              "      <th>acousticness</th>\n",
              "      <th>instrumentalness</th>\n",
              "      <th>liveness</th>\n",
              "      <th>valence</th>\n",
              "      <th>tempo</th>\n",
              "      <th>duration_ms</th>\n",
              "      <th>time_signature</th>\n",
              "      <th>liked</th>\n",
              "    </tr>\n",
              "  </thead>\n",
              "  <tbody>\n",
              "    <tr>\n",
              "      <th>0</th>\n",
              "      <td>0.803</td>\n",
              "      <td>0.6240</td>\n",
              "      <td>7</td>\n",
              "      <td>-6.764</td>\n",
              "      <td>0</td>\n",
              "      <td>0.0477</td>\n",
              "      <td>0.4510</td>\n",
              "      <td>0.000734</td>\n",
              "      <td>0.1000</td>\n",
              "      <td>0.6280</td>\n",
              "      <td>95.968</td>\n",
              "      <td>304524</td>\n",
              "      <td>4</td>\n",
              "      <td>0</td>\n",
              "    </tr>\n",
              "    <tr>\n",
              "      <th>1</th>\n",
              "      <td>0.762</td>\n",
              "      <td>0.7030</td>\n",
              "      <td>10</td>\n",
              "      <td>-7.951</td>\n",
              "      <td>0</td>\n",
              "      <td>0.3060</td>\n",
              "      <td>0.2060</td>\n",
              "      <td>0.000000</td>\n",
              "      <td>0.0912</td>\n",
              "      <td>0.5190</td>\n",
              "      <td>151.329</td>\n",
              "      <td>247178</td>\n",
              "      <td>4</td>\n",
              "      <td>1</td>\n",
              "    </tr>\n",
              "    <tr>\n",
              "      <th>2</th>\n",
              "      <td>0.261</td>\n",
              "      <td>0.0149</td>\n",
              "      <td>1</td>\n",
              "      <td>-27.528</td>\n",
              "      <td>1</td>\n",
              "      <td>0.0419</td>\n",
              "      <td>0.9920</td>\n",
              "      <td>0.897000</td>\n",
              "      <td>0.1020</td>\n",
              "      <td>0.0382</td>\n",
              "      <td>75.296</td>\n",
              "      <td>286987</td>\n",
              "      <td>4</td>\n",
              "      <td>0</td>\n",
              "    </tr>\n",
              "    <tr>\n",
              "      <th>3</th>\n",
              "      <td>0.722</td>\n",
              "      <td>0.7360</td>\n",
              "      <td>3</td>\n",
              "      <td>-6.994</td>\n",
              "      <td>0</td>\n",
              "      <td>0.0585</td>\n",
              "      <td>0.4310</td>\n",
              "      <td>0.000001</td>\n",
              "      <td>0.1230</td>\n",
              "      <td>0.5820</td>\n",
              "      <td>89.860</td>\n",
              "      <td>208920</td>\n",
              "      <td>4</td>\n",
              "      <td>1</td>\n",
              "    </tr>\n",
              "    <tr>\n",
              "      <th>4</th>\n",
              "      <td>0.787</td>\n",
              "      <td>0.5720</td>\n",
              "      <td>1</td>\n",
              "      <td>-7.516</td>\n",
              "      <td>1</td>\n",
              "      <td>0.2220</td>\n",
              "      <td>0.1450</td>\n",
              "      <td>0.000000</td>\n",
              "      <td>0.0753</td>\n",
              "      <td>0.6470</td>\n",
              "      <td>155.117</td>\n",
              "      <td>179413</td>\n",
              "      <td>4</td>\n",
              "      <td>1</td>\n",
              "    </tr>\n",
              "    <tr>\n",
              "      <th>...</th>\n",
              "      <td>...</td>\n",
              "      <td>...</td>\n",
              "      <td>...</td>\n",
              "      <td>...</td>\n",
              "      <td>...</td>\n",
              "      <td>...</td>\n",
              "      <td>...</td>\n",
              "      <td>...</td>\n",
              "      <td>...</td>\n",
              "      <td>...</td>\n",
              "      <td>...</td>\n",
              "      <td>...</td>\n",
              "      <td>...</td>\n",
              "      <td>...</td>\n",
              "    </tr>\n",
              "    <tr>\n",
              "      <th>190</th>\n",
              "      <td>0.166</td>\n",
              "      <td>0.0551</td>\n",
              "      <td>9</td>\n",
              "      <td>-19.494</td>\n",
              "      <td>0</td>\n",
              "      <td>0.0520</td>\n",
              "      <td>0.9760</td>\n",
              "      <td>0.635000</td>\n",
              "      <td>0.1190</td>\n",
              "      <td>0.1430</td>\n",
              "      <td>176.616</td>\n",
              "      <td>206520</td>\n",
              "      <td>3</td>\n",
              "      <td>0</td>\n",
              "    </tr>\n",
              "    <tr>\n",
              "      <th>191</th>\n",
              "      <td>0.862</td>\n",
              "      <td>0.6240</td>\n",
              "      <td>3</td>\n",
              "      <td>-11.630</td>\n",
              "      <td>1</td>\n",
              "      <td>0.0565</td>\n",
              "      <td>0.0192</td>\n",
              "      <td>0.000153</td>\n",
              "      <td>0.0465</td>\n",
              "      <td>0.8820</td>\n",
              "      <td>124.896</td>\n",
              "      <td>254240</td>\n",
              "      <td>4</td>\n",
              "      <td>0</td>\n",
              "    </tr>\n",
              "    <tr>\n",
              "      <th>192</th>\n",
              "      <td>0.499</td>\n",
              "      <td>0.3510</td>\n",
              "      <td>9</td>\n",
              "      <td>-11.509</td>\n",
              "      <td>0</td>\n",
              "      <td>0.0448</td>\n",
              "      <td>0.9510</td>\n",
              "      <td>0.000099</td>\n",
              "      <td>0.1180</td>\n",
              "      <td>0.6160</td>\n",
              "      <td>90.664</td>\n",
              "      <td>235947</td>\n",
              "      <td>4</td>\n",
              "      <td>0</td>\n",
              "    </tr>\n",
              "    <tr>\n",
              "      <th>193</th>\n",
              "      <td>0.574</td>\n",
              "      <td>0.7290</td>\n",
              "      <td>10</td>\n",
              "      <td>-5.838</td>\n",
              "      <td>0</td>\n",
              "      <td>0.0965</td>\n",
              "      <td>0.0406</td>\n",
              "      <td>0.000004</td>\n",
              "      <td>0.1940</td>\n",
              "      <td>0.4130</td>\n",
              "      <td>110.547</td>\n",
              "      <td>190239</td>\n",
              "      <td>5</td>\n",
              "      <td>1</td>\n",
              "    </tr>\n",
              "    <tr>\n",
              "      <th>194</th>\n",
              "      <td>0.747</td>\n",
              "      <td>0.6660</td>\n",
              "      <td>11</td>\n",
              "      <td>-7.845</td>\n",
              "      <td>1</td>\n",
              "      <td>0.1970</td>\n",
              "      <td>0.1300</td>\n",
              "      <td>0.000000</td>\n",
              "      <td>0.3600</td>\n",
              "      <td>0.5310</td>\n",
              "      <td>77.507</td>\n",
              "      <td>177213</td>\n",
              "      <td>4</td>\n",
              "      <td>1</td>\n",
              "    </tr>\n",
              "  </tbody>\n",
              "</table>\n",
              "<p>195 rows × 14 columns</p>\n",
              "</div>"
            ],
            "text/plain": [
              "     danceability  energy  key  ...  duration_ms  time_signature  liked\n",
              "0           0.803  0.6240    7  ...       304524               4      0\n",
              "1           0.762  0.7030   10  ...       247178               4      1\n",
              "2           0.261  0.0149    1  ...       286987               4      0\n",
              "3           0.722  0.7360    3  ...       208920               4      1\n",
              "4           0.787  0.5720    1  ...       179413               4      1\n",
              "..            ...     ...  ...  ...          ...             ...    ...\n",
              "190         0.166  0.0551    9  ...       206520               3      0\n",
              "191         0.862  0.6240    3  ...       254240               4      0\n",
              "192         0.499  0.3510    9  ...       235947               4      0\n",
              "193         0.574  0.7290   10  ...       190239               5      1\n",
              "194         0.747  0.6660   11  ...       177213               4      1\n",
              "\n",
              "[195 rows x 14 columns]"
            ]
          },
          "metadata": {},
          "execution_count": 14
        }
      ]
    },
    {
      "cell_type": "code",
      "metadata": {
        "colab": {
          "base_uri": "https://localhost:8080/"
        },
        "id": "ZnatiB_b9MnP",
        "outputId": "561d89cd-2eb6-43f2-d3e2-324ccdaacad6"
      },
      "source": [
        "df_scale = data.copy()\n",
        "scaler = StandardScaler()\n",
        "df_scale = scaler.fit_transform(df_scale)\n",
        "len(df_scale)"
      ],
      "execution_count": 15,
      "outputs": [
        {
          "output_type": "execute_result",
          "data": {
            "text/plain": [
              "195"
            ]
          },
          "metadata": {},
          "execution_count": 15
        }
      ]
    },
    {
      "cell_type": "code",
      "metadata": {
        "colab": {
          "base_uri": "https://localhost:8080/"
        },
        "id": "rRgnXEXi9YVg",
        "outputId": "f180db9a-ec48-4314-a121-39456218df42"
      },
      "source": [
        "data = pd.DataFrame(df_scale)\n",
        "data.columns = df.columns\n",
        "data_cluster = data.copy()\n",
        "data.head()\n",
        "data.shape"
      ],
      "execution_count": 16,
      "outputs": [
        {
          "output_type": "execute_result",
          "data": {
            "text/plain": [
              "(195, 14)"
            ]
          },
          "metadata": {},
          "execution_count": 16
        }
      ]
    },
    {
      "cell_type": "markdown",
      "metadata": {
        "id": "QA0JfcOq9cJn"
      },
      "source": [
        "**Algoritma K-MEANS**"
      ]
    },
    {
      "cell_type": "code",
      "metadata": {
        "colab": {
          "base_uri": "https://localhost:8080/",
          "height": 314
        },
        "id": "AVgjNZCP9ak7",
        "outputId": "ed32cbe0-51c7-4726-eb31-64cc0b9b3faa"
      },
      "source": [
        "from sklearn.cluster import KMeans\n",
        "\n",
        "clusters = []\n",
        "for i in range (1,11):\n",
        "    km = KMeans(n_clusters=i).fit(data)\n",
        "    clusters.append(km.inertia_)\n",
        "\n",
        "fig, ax = plt.subplots(figsize=(8,4))\n",
        "sns.lineplot(x=list(range(1,11)), y=clusters, ax=ax)\n",
        "ax.set_title('Elbow')\n",
        "ax.set_xlabel('Clusters')\n",
        "ax.set_ylabel('Inertia')"
      ],
      "execution_count": 17,
      "outputs": [
        {
          "output_type": "execute_result",
          "data": {
            "text/plain": [
              "Text(0, 0.5, 'Inertia')"
            ]
          },
          "metadata": {},
          "execution_count": 17
        },
        {
          "output_type": "display_data",
          "data": {
            "image/png": "[encoded data removed]",
            "text/plain": [
              "<Figure size 576x288 with 1 Axes>"
            ]
          },
          "metadata": {
            "needs_background": "light"
          }
        }
      ]
    },
    {
      "cell_type": "code",
      "metadata": {
        "colab": {
          "base_uri": "https://localhost:8080/",
          "height": 443
        },
        "id": "Gml6-65z9xuf",
        "outputId": "9eec3b76-4c3c-48a0-cddf-f0c0e93be801"
      },
      "source": [
        "model_kmeans3 = KMeans(n_clusters=3)\n",
        "model_kmeans3.fit(data)\n",
        "data_cluster['cluster_kmeans3'] = model_kmeans3.labels_\n",
        "data_cluster"
      ],
      "execution_count": 18,
      "outputs": [
        {
          "output_type": "execute_result",
          "data": {
            "text/html": [
              "<div>\n",
              "<style scoped>\n",
              "    .dataframe tbody tr th:only-of-type {\n",
              "        vertical-align: middle;\n",
              "    }\n",
              "\n",
              "    .dataframe tbody tr th {\n",
              "        vertical-align: top;\n",
              "    }\n",
              "\n",
              "    .dataframe thead th {\n",
              "        text-align: right;\n",
              "    }\n",
              "</style>\n",
              "<table border=\"1\" class=\"dataframe\">\n",
              "  <thead>\n",
              "    <tr style=\"text-align: right;\">\n",
              "      <th></th>\n",
              "      <th>danceability</th>\n",
              "      <th>energy</th>\n",
              "      <th>key</th>\n",
              "      <th>loudness</th>\n",
              "      <th>mode</th>\n",
              "      <th>speechiness</th>\n",
              "      <th>acousticness</th>\n",
              "      <th>instrumentalness</th>\n",
              "      <th>liveness</th>\n",
              "      <th>valence</th>\n",
              "      <th>tempo</th>\n",
              "      <th>duration_ms</th>\n",
              "      <th>time_signature</th>\n",
              "      <th>liked</th>\n",
              "      <th>cluster_kmeans3</th>\n",
              "    </tr>\n",
              "  </thead>\n",
              "  <tbody>\n",
              "    <tr>\n",
              "      <th>0</th>\n",
              "      <td>0.769903</td>\n",
              "      <td>-0.055628</td>\n",
              "      <td>0.441095</td>\n",
              "      <td>0.417562</td>\n",
              "      <td>-1.080123</td>\n",
              "      <td>-0.843078</td>\n",
              "      <td>0.412263</td>\n",
              "      <td>-0.554830</td>\n",
              "      <td>-0.458413</td>\n",
              "      <td>0.503237</td>\n",
              "      <td>-0.896670</td>\n",
              "      <td>1.266065</td>\n",
              "      <td>0.193658</td>\n",
              "      <td>-1.025978</td>\n",
              "      <td>0</td>\n",
              "    </tr>\n",
              "    <tr>\n",
              "      <th>1</th>\n",
              "      <td>0.580139</td>\n",
              "      <td>0.248888</td>\n",
              "      <td>1.321780</td>\n",
              "      <td>0.235180</td>\n",
              "      <td>-1.080123</td>\n",
              "      <td>1.307549</td>\n",
              "      <td>-0.353462</td>\n",
              "      <td>-0.556955</td>\n",
              "      <td>-0.541666</td>\n",
              "      <td>0.095009</td>\n",
              "      <td>1.079610</td>\n",
              "      <td>0.469229</td>\n",
              "      <td>0.193658</td>\n",
              "      <td>0.974679</td>\n",
              "      <td>2</td>\n",
              "    </tr>\n",
              "    <tr>\n",
              "      <th>2</th>\n",
              "      <td>-1.738685</td>\n",
              "      <td>-2.403485</td>\n",
              "      <td>-1.320274</td>\n",
              "      <td>-2.772810</td>\n",
              "      <td>0.925820</td>\n",
              "      <td>-0.891369</td>\n",
              "      <td>2.103110</td>\n",
              "      <td>2.040507</td>\n",
              "      <td>-0.439492</td>\n",
              "      <td>-1.705687</td>\n",
              "      <td>-1.634621</td>\n",
              "      <td>1.022384</td>\n",
              "      <td>0.193658</td>\n",
              "      <td>-1.025978</td>\n",
              "      <td>1</td>\n",
              "    </tr>\n",
              "    <tr>\n",
              "      <th>3</th>\n",
              "      <td>0.395003</td>\n",
              "      <td>0.376091</td>\n",
              "      <td>-0.733151</td>\n",
              "      <td>0.382222</td>\n",
              "      <td>-1.080123</td>\n",
              "      <td>-0.753156</td>\n",
              "      <td>0.349755</td>\n",
              "      <td>-0.556952</td>\n",
              "      <td>-0.240821</td>\n",
              "      <td>0.330957</td>\n",
              "      <td>-1.114714</td>\n",
              "      <td>-0.062375</td>\n",
              "      <td>0.193658</td>\n",
              "      <td>0.974679</td>\n",
              "      <td>2</td>\n",
              "    </tr>\n",
              "    <tr>\n",
              "      <th>4</th>\n",
              "      <td>0.695849</td>\n",
              "      <td>-0.256069</td>\n",
              "      <td>-1.320274</td>\n",
              "      <td>0.302018</td>\n",
              "      <td>0.925820</td>\n",
              "      <td>0.608158</td>\n",
              "      <td>-0.544112</td>\n",
              "      <td>-0.556955</td>\n",
              "      <td>-0.692088</td>\n",
              "      <td>0.574396</td>\n",
              "      <td>1.214835</td>\n",
              "      <td>-0.472381</td>\n",
              "      <td>0.193658</td>\n",
              "      <td>0.974679</td>\n",
              "      <td>2</td>\n",
              "    </tr>\n",
              "    <tr>\n",
              "      <th>...</th>\n",
              "      <td>...</td>\n",
              "      <td>...</td>\n",
              "      <td>...</td>\n",
              "      <td>...</td>\n",
              "      <td>...</td>\n",
              "      <td>...</td>\n",
              "      <td>...</td>\n",
              "      <td>...</td>\n",
              "      <td>...</td>\n",
              "      <td>...</td>\n",
              "      <td>...</td>\n",
              "      <td>...</td>\n",
              "      <td>...</td>\n",
              "      <td>...</td>\n",
              "      <td>...</td>\n",
              "    </tr>\n",
              "    <tr>\n",
              "      <th>190</th>\n",
              "      <td>-2.178382</td>\n",
              "      <td>-2.248529</td>\n",
              "      <td>1.028218</td>\n",
              "      <td>-1.538392</td>\n",
              "      <td>-1.080123</td>\n",
              "      <td>-0.807276</td>\n",
              "      <td>2.053103</td>\n",
              "      <td>1.281828</td>\n",
              "      <td>-0.278663</td>\n",
              "      <td>-1.313189</td>\n",
              "      <td>1.982307</td>\n",
              "      <td>-0.095723</td>\n",
              "      <td>-2.027708</td>\n",
              "      <td>-1.025978</td>\n",
              "      <td>1</td>\n",
              "    </tr>\n",
              "    <tr>\n",
              "      <th>191</th>\n",
              "      <td>1.042978</td>\n",
              "      <td>-0.055628</td>\n",
              "      <td>-0.733151</td>\n",
              "      <td>-0.330095</td>\n",
              "      <td>0.925820</td>\n",
              "      <td>-0.769808</td>\n",
              "      <td>-0.937289</td>\n",
              "      <td>-0.556512</td>\n",
              "      <td>-0.964551</td>\n",
              "      <td>1.454520</td>\n",
              "      <td>0.136003</td>\n",
              "      <td>0.567357</td>\n",
              "      <td>0.193658</td>\n",
              "      <td>-1.025978</td>\n",
              "      <td>0</td>\n",
              "    </tr>\n",
              "    <tr>\n",
              "      <th>192</th>\n",
              "      <td>-0.637128</td>\n",
              "      <td>-1.107943</td>\n",
              "      <td>1.028218</td>\n",
              "      <td>-0.311504</td>\n",
              "      <td>-1.080123</td>\n",
              "      <td>-0.867223</td>\n",
              "      <td>1.974968</td>\n",
              "      <td>-0.556667</td>\n",
              "      <td>-0.288124</td>\n",
              "      <td>0.458295</td>\n",
              "      <td>-1.086013</td>\n",
              "      <td>0.313172</td>\n",
              "      <td>0.193658</td>\n",
              "      <td>-1.025978</td>\n",
              "      <td>0</td>\n",
              "    </tr>\n",
              "    <tr>\n",
              "      <th>193</th>\n",
              "      <td>-0.289998</td>\n",
              "      <td>0.349108</td>\n",
              "      <td>1.321780</td>\n",
              "      <td>0.559841</td>\n",
              "      <td>-1.080123</td>\n",
              "      <td>-0.436765</td>\n",
              "      <td>-0.870405</td>\n",
              "      <td>-0.556943</td>\n",
              "      <td>0.430876</td>\n",
              "      <td>-0.301983</td>\n",
              "      <td>-0.376228</td>\n",
              "      <td>-0.321952</td>\n",
              "      <td>2.415023</td>\n",
              "      <td>0.974679</td>\n",
              "      <td>2</td>\n",
              "    </tr>\n",
              "    <tr>\n",
              "      <th>194</th>\n",
              "      <td>0.510713</td>\n",
              "      <td>0.106267</td>\n",
              "      <td>1.615341</td>\n",
              "      <td>0.251467</td>\n",
              "      <td>0.925820</td>\n",
              "      <td>0.400006</td>\n",
              "      <td>-0.590993</td>\n",
              "      <td>-0.556955</td>\n",
              "      <td>2.001321</td>\n",
              "      <td>0.139952</td>\n",
              "      <td>-1.555692</td>\n",
              "      <td>-0.502951</td>\n",
              "      <td>0.193658</td>\n",
              "      <td>0.974679</td>\n",
              "      <td>2</td>\n",
              "    </tr>\n",
              "  </tbody>\n",
              "</table>\n",
              "<p>195 rows × 15 columns</p>\n",
              "</div>"
            ],
            "text/plain": [
              "     danceability    energy  ...     liked  cluster_kmeans3\n",
              "0        0.769903 -0.055628  ... -1.025978                0\n",
              "1        0.580139  0.248888  ...  0.974679                2\n",
              "2       -1.738685 -2.403485  ... -1.025978                1\n",
              "3        0.395003  0.376091  ...  0.974679                2\n",
              "4        0.695849 -0.256069  ...  0.974679                2\n",
              "..            ...       ...  ...       ...              ...\n",
              "190     -2.178382 -2.248529  ... -1.025978                1\n",
              "191      1.042978 -0.055628  ... -1.025978                0\n",
              "192     -0.637128 -1.107943  ... -1.025978                0\n",
              "193     -0.289998  0.349108  ...  0.974679                2\n",
              "194      0.510713  0.106267  ...  0.974679                2\n",
              "\n",
              "[195 rows x 15 columns]"
            ]
          },
          "metadata": {},
          "execution_count": 18
        }
      ]
    },
    {
      "cell_type": "code",
      "metadata": {
        "colab": {
          "base_uri": "https://localhost:8080/",
          "height": 371
        },
        "id": "Mnt64IgQ99b_",
        "outputId": "9d709b72-01ee-426a-8791-b5b302299850"
      },
      "source": [
        "plt.figure(figsize=(8,4))\n",
        "sns.scatterplot(data_cluster['danceability'], data_cluster['key'], hue=data_cluster['cluster_kmeans3'], palette=sns.color_palette('hls',3))\n",
        "plt.title(' KMeans 3 cluster')"
      ],
      "execution_count": 19,
      "outputs": [
        {
          "output_type": "stream",
          "name": "stderr",
          "text": [
            "/usr/local/lib/python3.7/dist-packages/seaborn/_decorators.py:43: FutureWarning: Pass the following variables as keyword args: x, y. From version 0.12, the only valid positional argument will be `data`, and passing other arguments without an explicit keyword will result in an error or misinterpretation.\n",
            "  FutureWarning\n"
          ]
        },
        {
          "output_type": "execute_result",
          "data": {
            "text/plain": [
              "Text(0.5, 1.0, ' KMeans 3 cluster')"
            ]
          },
          "metadata": {},
          "execution_count": 19
        },
        {
          "output_type": "display_data",
          "data": {
            "image/png": "[encoded data removed]",
            "text/plain": [
              "<Figure size 576x288 with 1 Axes>"
            ]
          },
          "metadata": {
            "needs_background": "light"
          }
        }
      ]
    },
    {
      "cell_type": "markdown",
      "metadata": {
        "id": "H3Uoh6bC-P4P"
      },
      "source": [
        "**Algoritma K-MEDOIDS**"
      ]
    },
    {
      "cell_type": "code",
      "metadata": {
        "colab": {
          "base_uri": "https://localhost:8080/"
        },
        "id": "chpo6bEB-Td_",
        "outputId": "d9109e26-0658-456d-b12b-0bcfb7db07de"
      },
      "source": [
        "!pip install scikit-learn-extra\n",
        "from sklearn_extra.cluster import KMedoids"
      ],
      "execution_count": 20,
      "outputs": [
        {
          "output_type": "stream",
          "name": "stdout",
          "text": [
            "Requirement already satisfied: scikit-learn-extra in /usr/local/lib/python3.7/dist-packages (0.2.0)\n",
            "Requirement already satisfied: scipy>=0.19.1 in /usr/local/lib/python3.7/dist-packages (from scikit-learn-extra) (1.4.1)\n",
            "Requirement already satisfied: scikit-learn>=0.23.0 in /usr/local/lib/python3.7/dist-packages (from scikit-learn-extra) (0.24.2)\n",
            "Requirement already satisfied: numpy>=1.13.3 in /usr/local/lib/python3.7/dist-packages (from scikit-learn-extra) (1.19.5)\n",
            "Requirement already satisfied: joblib>=0.11 in /usr/local/lib/python3.7/dist-packages (from scikit-learn>=0.23.0->scikit-learn-extra) (1.0.1)\n",
            "Requirement already satisfied: threadpoolctl>=2.0.0 in /usr/local/lib/python3.7/dist-packages (from scikit-learn>=0.23.0->scikit-learn-extra) (2.2.0)\n"
          ]
        }
      ]
    },
    {
      "cell_type": "code",
      "metadata": {
        "colab": {
          "base_uri": "https://localhost:8080/",
          "height": 461
        },
        "id": "tjg4_HU4-jaH",
        "outputId": "a29894e7-d722-4930-dd90-21305bbff8f6"
      },
      "source": [
        "model_kmedoids = KMedoids(n_clusters=4, random_state=0)\n",
        "model_kmedoids.fit(data)\n",
        "data_cluster['Cluster K-Medoids'] = model_kmedoids.labels_\n",
        "data_cluster"
      ],
      "execution_count": 21,
      "outputs": [
        {
          "output_type": "execute_result",
          "data": {
            "text/html": [
              "<div>\n",
              "<style scoped>\n",
              "    .dataframe tbody tr th:only-of-type {\n",
              "        vertical-align: middle;\n",
              "    }\n",
              "\n",
              "    .dataframe tbody tr th {\n",
              "        vertical-align: top;\n",
              "    }\n",
              "\n",
              "    .dataframe thead th {\n",
              "        text-align: right;\n",
              "    }\n",
              "</style>\n",
              "<table border=\"1\" class=\"dataframe\">\n",
              "  <thead>\n",
              "    <tr style=\"text-align: right;\">\n",
              "      <th></th>\n",
              "      <th>danceability</th>\n",
              "      <th>energy</th>\n",
              "      <th>key</th>\n",
              "      <th>loudness</th>\n",
              "      <th>mode</th>\n",
              "      <th>speechiness</th>\n",
              "      <th>acousticness</th>\n",
              "      <th>instrumentalness</th>\n",
              "      <th>liveness</th>\n",
              "      <th>valence</th>\n",
              "      <th>tempo</th>\n",
              "      <th>duration_ms</th>\n",
              "      <th>time_signature</th>\n",
              "      <th>liked</th>\n",
              "      <th>cluster_kmeans3</th>\n",
              "      <th>Cluster K-Medoids</th>\n",
              "    </tr>\n",
              "  </thead>\n",
              "  <tbody>\n",
              "    <tr>\n",
              "      <th>0</th>\n",
              "      <td>0.769903</td>\n",
              "      <td>-0.055628</td>\n",
              "      <td>0.441095</td>\n",
              "      <td>0.417562</td>\n",
              "      <td>-1.080123</td>\n",
              "      <td>-0.843078</td>\n",
              "      <td>0.412263</td>\n",
              "      <td>-0.554830</td>\n",
              "      <td>-0.458413</td>\n",
              "      <td>0.503237</td>\n",
              "      <td>-0.896670</td>\n",
              "      <td>1.266065</td>\n",
              "      <td>0.193658</td>\n",
              "      <td>-1.025978</td>\n",
              "      <td>0</td>\n",
              "      <td>0</td>\n",
              "    </tr>\n",
              "    <tr>\n",
              "      <th>1</th>\n",
              "      <td>0.580139</td>\n",
              "      <td>0.248888</td>\n",
              "      <td>1.321780</td>\n",
              "      <td>0.235180</td>\n",
              "      <td>-1.080123</td>\n",
              "      <td>1.307549</td>\n",
              "      <td>-0.353462</td>\n",
              "      <td>-0.556955</td>\n",
              "      <td>-0.541666</td>\n",
              "      <td>0.095009</td>\n",
              "      <td>1.079610</td>\n",
              "      <td>0.469229</td>\n",
              "      <td>0.193658</td>\n",
              "      <td>0.974679</td>\n",
              "      <td>2</td>\n",
              "      <td>2</td>\n",
              "    </tr>\n",
              "    <tr>\n",
              "      <th>2</th>\n",
              "      <td>-1.738685</td>\n",
              "      <td>-2.403485</td>\n",
              "      <td>-1.320274</td>\n",
              "      <td>-2.772810</td>\n",
              "      <td>0.925820</td>\n",
              "      <td>-0.891369</td>\n",
              "      <td>2.103110</td>\n",
              "      <td>2.040507</td>\n",
              "      <td>-0.439492</td>\n",
              "      <td>-1.705687</td>\n",
              "      <td>-1.634621</td>\n",
              "      <td>1.022384</td>\n",
              "      <td>0.193658</td>\n",
              "      <td>-1.025978</td>\n",
              "      <td>1</td>\n",
              "      <td>0</td>\n",
              "    </tr>\n",
              "    <tr>\n",
              "      <th>3</th>\n",
              "      <td>0.395003</td>\n",
              "      <td>0.376091</td>\n",
              "      <td>-0.733151</td>\n",
              "      <td>0.382222</td>\n",
              "      <td>-1.080123</td>\n",
              "      <td>-0.753156</td>\n",
              "      <td>0.349755</td>\n",
              "      <td>-0.556952</td>\n",
              "      <td>-0.240821</td>\n",
              "      <td>0.330957</td>\n",
              "      <td>-1.114714</td>\n",
              "      <td>-0.062375</td>\n",
              "      <td>0.193658</td>\n",
              "      <td>0.974679</td>\n",
              "      <td>2</td>\n",
              "      <td>2</td>\n",
              "    </tr>\n",
              "    <tr>\n",
              "      <th>4</th>\n",
              "      <td>0.695849</td>\n",
              "      <td>-0.256069</td>\n",
              "      <td>-1.320274</td>\n",
              "      <td>0.302018</td>\n",
              "      <td>0.925820</td>\n",
              "      <td>0.608158</td>\n",
              "      <td>-0.544112</td>\n",
              "      <td>-0.556955</td>\n",
              "      <td>-0.692088</td>\n",
              "      <td>0.574396</td>\n",
              "      <td>1.214835</td>\n",
              "      <td>-0.472381</td>\n",
              "      <td>0.193658</td>\n",
              "      <td>0.974679</td>\n",
              "      <td>2</td>\n",
              "      <td>3</td>\n",
              "    </tr>\n",
              "    <tr>\n",
              "      <th>...</th>\n",
              "      <td>...</td>\n",
              "      <td>...</td>\n",
              "      <td>...</td>\n",
              "      <td>...</td>\n",
              "      <td>...</td>\n",
              "      <td>...</td>\n",
              "      <td>...</td>\n",
              "      <td>...</td>\n",
              "      <td>...</td>\n",
              "      <td>...</td>\n",
              "      <td>...</td>\n",
              "      <td>...</td>\n",
              "      <td>...</td>\n",
              "      <td>...</td>\n",
              "      <td>...</td>\n",
              "      <td>...</td>\n",
              "    </tr>\n",
              "    <tr>\n",
              "      <th>190</th>\n",
              "      <td>-2.178382</td>\n",
              "      <td>-2.248529</td>\n",
              "      <td>1.028218</td>\n",
              "      <td>-1.538392</td>\n",
              "      <td>-1.080123</td>\n",
              "      <td>-0.807276</td>\n",
              "      <td>2.053103</td>\n",
              "      <td>1.281828</td>\n",
              "      <td>-0.278663</td>\n",
              "      <td>-1.313189</td>\n",
              "      <td>1.982307</td>\n",
              "      <td>-0.095723</td>\n",
              "      <td>-2.027708</td>\n",
              "      <td>-1.025978</td>\n",
              "      <td>1</td>\n",
              "      <td>0</td>\n",
              "    </tr>\n",
              "    <tr>\n",
              "      <th>191</th>\n",
              "      <td>1.042978</td>\n",
              "      <td>-0.055628</td>\n",
              "      <td>-0.733151</td>\n",
              "      <td>-0.330095</td>\n",
              "      <td>0.925820</td>\n",
              "      <td>-0.769808</td>\n",
              "      <td>-0.937289</td>\n",
              "      <td>-0.556512</td>\n",
              "      <td>-0.964551</td>\n",
              "      <td>1.454520</td>\n",
              "      <td>0.136003</td>\n",
              "      <td>0.567357</td>\n",
              "      <td>0.193658</td>\n",
              "      <td>-1.025978</td>\n",
              "      <td>0</td>\n",
              "      <td>3</td>\n",
              "    </tr>\n",
              "    <tr>\n",
              "      <th>192</th>\n",
              "      <td>-0.637128</td>\n",
              "      <td>-1.107943</td>\n",
              "      <td>1.028218</td>\n",
              "      <td>-0.311504</td>\n",
              "      <td>-1.080123</td>\n",
              "      <td>-0.867223</td>\n",
              "      <td>1.974968</td>\n",
              "      <td>-0.556667</td>\n",
              "      <td>-0.288124</td>\n",
              "      <td>0.458295</td>\n",
              "      <td>-1.086013</td>\n",
              "      <td>0.313172</td>\n",
              "      <td>0.193658</td>\n",
              "      <td>-1.025978</td>\n",
              "      <td>0</td>\n",
              "      <td>0</td>\n",
              "    </tr>\n",
              "    <tr>\n",
              "      <th>193</th>\n",
              "      <td>-0.289998</td>\n",
              "      <td>0.349108</td>\n",
              "      <td>1.321780</td>\n",
              "      <td>0.559841</td>\n",
              "      <td>-1.080123</td>\n",
              "      <td>-0.436765</td>\n",
              "      <td>-0.870405</td>\n",
              "      <td>-0.556943</td>\n",
              "      <td>0.430876</td>\n",
              "      <td>-0.301983</td>\n",
              "      <td>-0.376228</td>\n",
              "      <td>-0.321952</td>\n",
              "      <td>2.415023</td>\n",
              "      <td>0.974679</td>\n",
              "      <td>2</td>\n",
              "      <td>2</td>\n",
              "    </tr>\n",
              "    <tr>\n",
              "      <th>194</th>\n",
              "      <td>0.510713</td>\n",
              "      <td>0.106267</td>\n",
              "      <td>1.615341</td>\n",
              "      <td>0.251467</td>\n",
              "      <td>0.925820</td>\n",
              "      <td>0.400006</td>\n",
              "      <td>-0.590993</td>\n",
              "      <td>-0.556955</td>\n",
              "      <td>2.001321</td>\n",
              "      <td>0.139952</td>\n",
              "      <td>-1.555692</td>\n",
              "      <td>-0.502951</td>\n",
              "      <td>0.193658</td>\n",
              "      <td>0.974679</td>\n",
              "      <td>2</td>\n",
              "      <td>1</td>\n",
              "    </tr>\n",
              "  </tbody>\n",
              "</table>\n",
              "<p>195 rows × 16 columns</p>\n",
              "</div>"
            ],
            "text/plain": [
              "     danceability    energy  ...  cluster_kmeans3  Cluster K-Medoids\n",
              "0        0.769903 -0.055628  ...                0                  0\n",
              "1        0.580139  0.248888  ...                2                  2\n",
              "2       -1.738685 -2.403485  ...                1                  0\n",
              "3        0.395003  0.376091  ...                2                  2\n",
              "4        0.695849 -0.256069  ...                2                  3\n",
              "..            ...       ...  ...              ...                ...\n",
              "190     -2.178382 -2.248529  ...                1                  0\n",
              "191      1.042978 -0.055628  ...                0                  3\n",
              "192     -0.637128 -1.107943  ...                0                  0\n",
              "193     -0.289998  0.349108  ...                2                  2\n",
              "194      0.510713  0.106267  ...                2                  1\n",
              "\n",
              "[195 rows x 16 columns]"
            ]
          },
          "metadata": {},
          "execution_count": 21
        }
      ]
    },
    {
      "cell_type": "code",
      "metadata": {
        "colab": {
          "base_uri": "https://localhost:8080/",
          "height": 352
        },
        "id": "HdpRCcXd-pbg",
        "outputId": "b2086f29-df9a-4418-fb8f-a066c61a5ad3"
      },
      "source": [
        "plt.figure(figsize=(8,4))\n",
        "sns.scatterplot(data_cluster['danceability'], data_cluster['key'], hue=data_cluster['Cluster K-Medoids'], palette=sns.color_palette('hls',4))\n",
        "plt.title(' K-Medoids 4 cluster')\n",
        "plt.show()"
      ],
      "execution_count": 22,
      "outputs": [
        {
          "output_type": "stream",
          "name": "stderr",
          "text": [
            "/usr/local/lib/python3.7/dist-packages/seaborn/_decorators.py:43: FutureWarning: Pass the following variables as keyword args: x, y. From version 0.12, the only valid positional argument will be `data`, and passing other arguments without an explicit keyword will result in an error or misinterpretation.\n",
            "  FutureWarning\n"
          ]
        },
        {
          "output_type": "display_data",
          "data": {
            "image/png": "[encoded data removed]",
            "text/plain": [
              "<Figure size 576x288 with 1 Axes>"
            ]
          },
          "metadata": {
            "needs_background": "light"
          }
        }
      ]
    },
    {
      "cell_type": "markdown",
      "metadata": {
        "id": "kdJjniKQ-17-"
      },
      "source": [
        "**Hierarchy**"
      ]
    },
    {
      "cell_type": "code",
      "metadata": {
        "colab": {
          "base_uri": "https://localhost:8080/",
          "height": 463
        },
        "id": "dq0f7swQ-4Zf",
        "outputId": "5e37505a-3779-40bb-d30c-b051ed26ddad"
      },
      "source": [
        "from scipy.cluster.hierarchy import dendrogram, linkage\n",
        "\n",
        "plt.figure(figsize=(10,7))\n",
        "plt.title(\"Dendrogram\")\n",
        "dend = dendrogram(linkage(data, method=\"ward\"))\n",
        "plt.axhline(y=35, color='r', linestyle='--')"
      ],
      "execution_count": 23,
      "outputs": [
        {
          "output_type": "execute_result",
          "data": {
            "text/plain": [
              "<matplotlib.lines.Line2D at 0x7fe5b77fd110>"
            ]
          },
          "metadata": {},
          "execution_count": 23
        },
        {
          "output_type": "display_data",
          "data": {
            "image/png": "[encoded data removed]",
            "text/plain": [
              "<Figure size 720x504 with 1 Axes>"
            ]
          },
          "metadata": {
            "needs_background": "light"
          }
        }
      ]
    },
    {
      "cell_type": "code",
      "metadata": {
        "colab": {
          "base_uri": "https://localhost:8080/",
          "height": 711
        },
        "id": "XUzBmFhj_DaR",
        "outputId": "91f9e840-4458-40ea-a11e-a3904bffca8e"
      },
      "source": [
        "from sklearn.cluster import AgglomerativeClustering\n",
        "\n",
        "model_agglo = AgglomerativeClustering(n_clusters=4, affinity='euclidean', linkage='ward')\n",
        "model_agglo.fit_predict(data)\n",
        "plt.title('Hierarchy')\n",
        "plt.figure(figsize=(10,7))\n",
        "plt.scatter(data_cluster['danceability'], data_cluster['key'], c=model_agglo.labels_)"
      ],
      "execution_count": 24,
      "outputs": [
        {
          "output_type": "execute_result",
          "data": {
            "text/plain": [
              "<matplotlib.collections.PathCollection at 0x7fe5b7543790>"
            ]
          },
          "metadata": {},
          "execution_count": 24
        },
        {
          "output_type": "display_data",
          "data": {
            "image/png": "[encoded data removed]",
            "text/plain": [
              "<Figure size 432x288 with 1 Axes>"
            ]
          },
          "metadata": {
            "needs_background": "light"
          }
        },
        {
          "output_type": "display_data",
          "data": {
            "image/png": "[encoded data removed]",
            "text/plain": [
              "<Figure size 720x504 with 1 Axes>"
            ]
          },
          "metadata": {
            "needs_background": "light"
          }
        }
      ]
    },
    {
      "cell_type": "markdown",
      "metadata": {
        "id": "zsF-ZP6W_PUf"
      },
      "source": [
        "**DBSCAN**"
      ]
    },
    {
      "cell_type": "code",
      "metadata": {
        "colab": {
          "base_uri": "https://localhost:8080/",
          "height": 284
        },
        "id": "tvsJiRY8_M_B",
        "outputId": "9c41bc5d-8cbd-4af0-afdf-708144ba8c37"
      },
      "source": [
        "from sklearn.neighbors import NearestNeighbors\n",
        "\n",
        "neigh = NearestNeighbors(n_neighbors=13)\n",
        "nbrs = neigh.fit(data)\n",
        "distances, indices = nbrs.kneighbors(data)\n",
        "\n",
        "distances = np.sort(distances, axis=0)\n",
        "distances = distances[:,1]\n",
        "plt.plot(distances)\n",
        "plt.axhline(y=1.5, color='r', linestyle='--')"
      ],
      "execution_count": 25,
      "outputs": [
        {
          "output_type": "execute_result",
          "data": {
            "text/plain": [
              "<matplotlib.lines.Line2D at 0x7fe5b75a5c90>"
            ]
          },
          "metadata": {},
          "execution_count": 25
        },
        {
          "output_type": "display_data",
          "data": {
            "image/png": "[encoded data removed]",
            "text/plain": [
              "<Figure size 432x288 with 1 Axes>"
            ]
          },
          "metadata": {
            "needs_background": "light"
          }
        }
      ]
    },
    {
      "cell_type": "code",
      "metadata": {
        "colab": {
          "base_uri": "https://localhost:8080/",
          "height": 607
        },
        "id": "Jy71pPbl_WIi",
        "outputId": "1eb77f76-0097-42a2-c0b3-c66574ac4e88"
      },
      "source": [
        "from sklearn.cluster import DBSCAN\n",
        "\n",
        "model_dbscan = DBSCAN(eps=1.5, min_samples=13)\n",
        "model_dbscan.fit(data)\n",
        "plt.figure(figsize=(10,10))\n",
        "plt.scatter(data_cluster['danceability'], data_cluster['key'], c=model_dbscan.labels_)\n",
        "plt.title(' DBSCAN clustering')\n",
        "plt.show()"
      ],
      "execution_count": 26,
      "outputs": [
        {
          "output_type": "display_data",
          "data": {
            "image/png": "[encoded data removed]",
            "text/plain": [
              "<Figure size 720x720 with 1 Axes>"
            ]
          },
          "metadata": {
            "needs_background": "light"
          }
        }
      ]
    },
    {
      "cell_type": "code",
      "metadata": {
        "id": "AqnM4Jhj_hoB"
      },
      "source": [
        ""
      ],
      "execution_count": null,
      "outputs": []
    }
  ]
}